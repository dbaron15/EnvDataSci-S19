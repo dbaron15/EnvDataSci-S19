{
 "cells": [
  {
   "cell_type": "markdown",
   "metadata": {},
   "source": [
    "# Lab3 – Basic Python -  Creating Variables and Lists and Plot Them\n",
    "\n",
    "In this lab, you will learn how to use Jupyter Notebook to write and run Python code to organize, analyze, and visualize earth and environmental science data.\n",
    "\n",
    "All new cells should be added after this Markdown cell with the instructions and in the order specified.\n",
    "For code cells, be sure to add Python comments to document each code block and use appropriate variable names that are short and concise but also clearly indicate the kind of data contained in the variable. Review the variable names that you have seen throughout the lessons.\n",
    "\n",
    "The possible points earned for each question are listed; this component contributes 50 points to your homework grade (out of a total possible points of 100).\n",
    "\n",
    "## Question 1 - Name Jupyter Notebook Files (10 pts)\n",
    "Name your Jupyter Notebook file as Lab3 followed by your first initial and last name (e.g. Lab3-wnimeister.ipynb).\n",
    "\n",
    "## Question 2 - Markdown Styling (10 pts)\n",
    "Add a new Markdown cell below and add Markdown for:\n",
    "- A title for the notebook.\n",
    "- A bullet list with:\n",
    "    - A **bold** word for Author: and then add text for your name.\n",
    "    - A **bold** word for Date: and then add text for today’s date.\n",
    "\n",
    "\n",
    "## Question 3 - Import Necessary Python Packages (10 pts)\n",
    "\n",
    "Add a new code cell below, and add Python code to:\n",
    "- Import the os package.\n",
    "- Import the matplotlib.pyplot module using the alias plt.\n",
    "\n",
    "\n",
    "## Question 4 - Create Variables (10 pts)\n",
    "\n",
    "For this question, you will use data on average monthly temperature data for 2017 for <a href=\"https://www.weather.gov/okx/CentralParkHistorical\" target=\"_blank\">,provided by the U.S.  National Weather Service. </a>\n",
    "\n",
    "Month  | Temperature (0F) |\n",
    "--- | --- |\n",
    "Jan | 38.0 |\n",
    "Feb | 41.6 |\n",
    "Mar | 39.2 |\n",
    "Apr | 57.2 |\n",
    "May | 61.1 |\n",
    "June | 72.0 |\n",
    "July | 76.8 |\n",
    "Aug | 74.0 |\n",
    "Sept | 70.5 |\n",
    "Oct | 64.1 |\n",
    "Nov | 46.6 |\n",
    "Dec | 33.4 |\n",
    "\n",
    "Add a new code cell below, and add Python code to:\n",
    "- Create new variables for monthly average temperature (Fahrenheit) for January through December.\n",
    "- Print the variable for December.\n",
    "\n",
    "\n",
    "## Question 5 - Run Calculations on Variables (10 pts)\n",
    "\n",
    "Add a new code cell below, and add Python code to:\n",
    "- Convert the variable values from Fahrenheit to Celsius using the following equation:\n",
    "- Celsius = (Fahrenheit - 32) / 1.8\n",
    "- Note that including Fahrenheit - 32 within parenthesis () tells Python to execute that calculation first.\n",
    "- Print the new variable for December.\n",
    "\n",
    "\n",
    "\n",
    "## Question 6 - Create Lists ( 10pts)\n",
    "\n",
    "Add a new code cell below, and add Python code to:\n",
    "- Create a new list for average monthly temperature for Central Park, NY from the variables containing the Celsius values you calculated above.\n",
    "- Print the temperature list.\n",
    "- Create another list for the month names using full-length month names (e.g. January).\n",
    "- Print the month name list.\n",
    "\n",
    "\n",
    "## Question 7 - Plot Data From Lists (10 pts)\n",
    "\n",
    "Add a new code cell below, and add Python code to:\n",
    "\n",
    "- Create a green line plot of the average monthly temperature for Central Park, NY using the lists created above (units in Celsius).\n",
    "- Be sure to include a title for your plot.\n",
    "- Be sure to include labels for the x- and y-axes, including the units for the temperature (Celsius).\n",
    "\n",
    "## Question 8 - Plot Data From Lists (10 pts)\n",
    "\n",
    "Add a new code cell below, and add Python code to:\n",
    "\n",
    "- Create a red bar plot of the average monthly temperature for Central Park, NY using the lists created above (units in Celsius).\n",
    "- Be sure to include a title for your plot.\n",
    "- Be sure to include labels for the x- and y-axes, including the units for the temperature (Celsius).\n",
    "\n",
    "\n",
    "## Question 9 - Plot Data From Lists (10 pts)\n",
    "Add a new code cell below, and add Python code to:\n",
    "\n",
    "- Create a blue scatter plot of the average monthly temperature for Central Park, NY using the lists created above (units in Celsius).\n",
    "- Be sure to include a title for your plot.\n",
    "- Be sure to include labels for the x- and y-axes, including the units for the temperature (Celsius).\n",
    "\n",
    "\n",
    "## Question 10 - Discuss Plot (10 pts)\n",
    "Add a new Markdown cell below, and answer the following questions (4-6 sentences).\n",
    "\n",
    "1. Which months have the lowest and the highest temperatures? \n",
    "2. How much of a difference is there between the lowest and highest temperatures?\n",
    "\n"
   ]
  },
  {
   "cell_type": "markdown",
   "metadata": {},
   "source": [
    "## Question 1 - Name Jupyter Notebook Files (10 pts)\n",
    "*Name your Jupyter Notebook file as Lab3 followed by your first initial and last name (e.g. Lab3-wnimeister.ipynb).*\n",
    "***\n",
    "To rename a Jupyter Notebook, you can just click the title of the notebook and rename it. It will automatically rename the notebook."
   ]
  },
  {
   "cell_type": "markdown",
   "metadata": {},
   "source": [
    "## Question 2 - Markdown Styling (10 pts)\n",
    "*Add a new Markdown cell below and add Markdown for:<br>\n",
    "A title for the notebook.<br>\n",
    "A bullet list with:<br>\n",
    "A bold word for Author: and then add text for your name.<br>\n",
    "A bold word for Date: and then add text for today’s date.*\n",
    "***\n",
    "# Lab 3 - GTECH78518 Environmental Data Science - Using and Visualizing Variables and Lists\n",
    "\n",
    "- **Author:** Deana Baron\n",
    "- **Date:** 2/9/18"
   ]
  },
  {
   "cell_type": "markdown",
   "metadata": {},
   "source": [
    "## Question 3 - Import Necessary Python Packages (10 pts)\n",
    "*Add a new code cell below, and add Python code to:<br>\n",
    "Import the os package.<br>\n",
    "Import the matplotlib.pyplot module using the alias plt.*\n",
    "***\n",
    "Importing libraries into python requires using the function `import` followed by the name of the libraries you want to bring into your project. To use an alias, and `as [alias name]` after the imported library. A `print()` statement is used to denote the success of library imports."
   ]
  },
  {
   "cell_type": "code",
   "execution_count": 46,
   "metadata": {
    "scrolled": true
   },
   "outputs": [
    {
     "name": "stdout",
     "output_type": "stream",
     "text": [
      "Import of libraries was successful.\n"
     ]
    }
   ],
   "source": [
    "# import necessary Python libraries and show that they were successful\n",
    "import os\n",
    "import matplotlib.pyplot as plt\n",
    "\n",
    "print (\"Import of libraries was successful.\")"
   ]
  },
  {
   "cell_type": "markdown",
   "metadata": {},
   "source": [
    "## Question 4 - Create Variables (10 pts)\n",
    "\n",
    "*For this question, you will use data on average monthly temperature data for 2017 for* <a href=\"https://www.weather.gov/okx/CentralParkHistorical\" target=\"_blank\">*, provided by the U.S.  National Weather Service.* </a>\n",
    "\n",
    "Month  | Temperature (0F) |\n",
    "--- | --- |\n",
    "Jan | 38.0 |\n",
    "Feb | 41.6 |\n",
    "Mar | 39.2 |\n",
    "Apr | 57.2 |\n",
    "May | 61.1 |\n",
    "June | 72.0 |\n",
    "July | 76.8 |\n",
    "Aug | 74.0 |\n",
    "Sept | 70.5 |\n",
    "Oct | 64.1 |\n",
    "Nov | 46.6 |\n",
    "Dec | 33.4 |\n",
    "\n",
    "*Add a new code cell below, and add Python code to:\n",
    "Create new variables for monthly average temperature (Fahrenheit) for January through December.\n",
    "Print the variable for December.*\n",
    "***\n",
    "Creating a variable involves assigning some values to a short, descriptive, easy to understand name. This allows for the program and the user to better understand how calculations are made. This is done with the statement `variable name = value`."
   ]
  },
  {
   "cell_type": "code",
   "execution_count": 47,
   "metadata": {},
   "outputs": [
    {
     "name": "stdout",
     "output_type": "stream",
     "text": [
      "33.4\n"
     ]
    }
   ],
   "source": [
    "# create variables for the monthly average temperatures in Fahrenheit from 2017, based on the table above\n",
    "jan = 38.0\n",
    "feb = 41.6\n",
    "mar = 39.2\n",
    "apr = 57.2\n",
    "may = 61.1\n",
    "jun = 72.0\n",
    "jul = 76.8\n",
    "aug = 74.0\n",
    "sep = 70.5\n",
    "oct = 64.1\n",
    "nov = 46.6\n",
    "dec = 33.4\n",
    "\n",
    "# print the value for the variable representing December\n",
    "print (dec)"
   ]
  },
  {
   "cell_type": "markdown",
   "metadata": {},
   "source": [
    "## Question 5 - Run Calculations on Variables (10 pts)\n",
    "\n",
    "*Add a new code cell below, and add Python code to:<br>\n",
    "Convert the variable values from Fahrenheit to Celsius using the following equation:<br>\n",
    "Celsius = (Fahrenheit - 32) / 1.8<br>\n",
    "Note that including Fahrenheit - 32 within parenthesis () tells Python to execute that calculation first.<br>\n",
    "Print the new variable for December.*\n",
    "***\n",
    "Equations can be run on variables to change their values. Here, the temperatures in Fahrenheit for each month will be converted to Celsius using an equation. The old values of the variables will be gone, and replaced with the answers from each formula."
   ]
  },
  {
   "cell_type": "code",
   "execution_count": 48,
   "metadata": {},
   "outputs": [
    {
     "name": "stdout",
     "output_type": "stream",
     "text": [
      "0.777777777777777\n"
     ]
    }
   ],
   "source": [
    "# convert the Fahrenheit temperatures for each month into Celsius using a formula\n",
    "jan = (jan - 32) / 1.8\n",
    "feb = (feb - 32) / 1.8\n",
    "mar = (mar - 32) / 1.8\n",
    "apr = (apr - 32) / 1.8\n",
    "may = (may - 32) / 1.8\n",
    "jun = (jun - 32) / 1.8\n",
    "jul = (jul - 32) / 1.8\n",
    "aug = (aug - 32) / 1.8\n",
    "sep = (sep - 32) / 1.8\n",
    "oct = (oct - 32) / 1.8\n",
    "nov = (nov - 32) / 1.8\n",
    "dec = (dec - 32) / 1.8\n",
    "\n",
    "# print the new value for the variable representing December\n",
    "print (dec)"
   ]
  },
  {
   "cell_type": "markdown",
   "metadata": {},
   "source": [
    "## Question 6 - Create Lists ( 10pts)\n",
    "\n",
    "*Add a new code cell below, and add Python code to:<br>\n",
    "Create a new list for average monthly temperature for Central Park, NY from the variables containing the Celsius values you calculated above.<br>\n",
    "Print the temperature list.<br>\n",
    "Create another list for the month names using full-length month names (e.g. January).<br>\n",
    "Print the month name list.*<br>\n",
    "***\n",
    "Lists allow multiple variables and values to be stored in one location. They are created with the statement `list name = [item1, item2, ...]`. Two lists will be created here: one for the temperature values and one for the names of the months."
   ]
  },
  {
   "cell_type": "code",
   "execution_count": 49,
   "metadata": {},
   "outputs": [
    {
     "name": "stdout",
     "output_type": "stream",
     "text": [
      "[3.333333333333333, 5.333333333333334, 4.000000000000002, 14.000000000000002, 16.166666666666668, 22.22222222222222, 24.888888888888886, 23.333333333333332, 21.38888888888889, 17.83333333333333, 8.111111111111112, 0.777777777777777]\n",
      "['January', 'February', 'March', 'April', 'May', 'June', 'July', 'August', 'September', 'October', 'November', 'December']\n"
     ]
    }
   ],
   "source": [
    "# create a list containing the monthly average temperatures in Celsius\n",
    "temp = [jan, feb, mar, apr, may, jun, jul, aug, sep, oct, nov, dec]\n",
    "\n",
    "# print the list containing the temperatures\n",
    "print (temp)\n",
    "\n",
    "# create a list containing the names of the months\n",
    "months = [\"January\", \"February\", \"March\", \"April\", \"May\", \"June\", \"July\", \"August\", \"September\", \"October\", \"November\", \"December\"]\n",
    "\n",
    "# print the list containing the names of the months\n",
    "print (months)"
   ]
  },
  {
   "cell_type": "markdown",
   "metadata": {},
   "source": [
    "## Question 7 - Plot Data From Lists (10 pts)\n",
    "\n",
    "*Add a new code cell below, and add Python code to:\n",
    "Create a green line plot of the average monthly temperature for Central Park, NY using the lists created above (units in Celsius).<br>\n",
    "Be sure to include a title for your plot.<br>\n",
    "Be sure to include labels for the x- and y-axes, including the units for the temperature (Celsius).*\n",
    "***\n",
    "Visualizing data is easy with the matplotlib library. There are very simple commands to load the data into the plot with the correct text to denote what is being shown. The below code shows the implementation of a green line plot for the average monthly temperatures calculated above."
   ]
  },
  {
   "cell_type": "code",
   "execution_count": 50,
   "metadata": {},
   "outputs": [
    {
     "data": {
      "image/png": "[encoded data removed]",
      "text/plain": [
       "<Figure size 864x576 with 1 Axes>"
      ]
     },
     "metadata": {
      "needs_background": "light"
     },
     "output_type": "display_data"
    }
   ],
   "source": [
    "# set the plot size for the line plot\n",
    "plt.rcParams[\"figure.figsize\"] = (12, 8)\n",
    "\n",
    "# set the plot font title size\n",
    "plt.rcParams['axes.titlesize'] = 20\n",
    "\n",
    "# create the plot space upon which to plot the data\n",
    "fig, ax = plt.subplots()\n",
    "\n",
    "# add the x and y axes to the plot\n",
    "ax.plot(months, temp, color = \"green\")\n",
    "\n",
    "# set plot title\n",
    "ax.set(title = \"2017 Monthly Temperature in Central Park, New York\")\n",
    "\n",
    "# add labels to the axes\n",
    "ax.set(xlabel = \"Month\", ylabel = \"Temperature (°C)\");"
   ]
  },
  {
   "cell_type": "markdown",
   "metadata": {},
   "source": [
    "## Question 8 - Plot Data From Lists (10 pts)\n",
    "\n",
    "*Add a new code cell below, and add Python code to:<br>\n",
    "Create a red bar plot of the average monthly temperature for Central Park, NY using the lists created above (units in Celsius).<br>\n",
    "Be sure to include a title for your plot.<br>\n",
    "Be sure to include labels for the x- and y-axes, including the units for the temperature (Celsius).*\n",
    "***\n",
    "The below code shows the implementation of a red bar plot for the average monthly temperatures calculated above."
   ]
  },
  {
   "cell_type": "code",
   "execution_count": 51,
   "metadata": {},
   "outputs": [
    {
     "data": {
      "image/png": "[encoded data removed]",
      "text/plain": [
       "<Figure size 864x576 with 1 Axes>"
      ]
     },
     "metadata": {
      "needs_background": "light"
     },
     "output_type": "display_data"
    }
   ],
   "source": [
    "# set the plot size for the bar plot\n",
    "plt.rcParams[\"figure.figsize\"] = (12, 8)\n",
    "\n",
    "# set the plot font title size\n",
    "plt.rcParams['axes.titlesize'] = 20\n",
    "\n",
    "# create the plot space upon which to plot the data\n",
    "fig, ax = plt.subplots()\n",
    "\n",
    "# add the x and y axes to the plot\n",
    "ax.bar(months, temp, color = \"red\")\n",
    "\n",
    "# set plot title\n",
    "ax.set(title = \"2017 Monthly Temperature in Central Park, New York\")\n",
    "\n",
    "# add labels to the axes\n",
    "ax.set(xlabel = \"Month\", ylabel = \"Temperature (°C)\");"
   ]
  },
  {
   "cell_type": "markdown",
   "metadata": {},
   "source": [
    "## Question 9 - Plot Data From Lists (10 pts)\n",
    "*Add a new code cell below, and add Python code to:<br>\n",
    "Create a blue scatter plot of the average monthly temperature for Central Park, NY using the lists created above (units in Celsius).<br>\n",
    "Be sure to include a title for your plot.<br>\n",
    "Be sure to include labels for the x- and y-axes, including the units for the temperature (Celsius).*\n",
    "***\n",
    "The below code shows the implementation of a blue scatter plot for the average monthly temperatures calculated above."
   ]
  },
  {
   "cell_type": "code",
   "execution_count": 52,
   "metadata": {},
   "outputs": [
    {
     "data": {
      "image/png": "[encoded data removed]",
      "text/plain": [
       "<Figure size 864x576 with 1 Axes>"
      ]
     },
     "metadata": {
      "needs_background": "light"
     },
     "output_type": "display_data"
    }
   ],
   "source": [
    "# set the plot size for the bar plot\n",
    "plt.rcParams[\"figure.figsize\"] = (12, 8)\n",
    "\n",
    "# set the plot font title size\n",
    "plt.rcParams['axes.titlesize'] = 20\n",
    "\n",
    "# create the plot space upon which to plot the data\n",
    "fig, ax = plt.subplots()\n",
    "\n",
    "# add the x and y axes to the plot\n",
    "ax.scatter(months, temp, color = \"blue\")\n",
    "\n",
    "# set plot title\n",
    "ax.set(title = \"2017 Monthly Temperature in Central Park, New York\")\n",
    "\n",
    "# add labels to the axes\n",
    "ax.set(xlabel = \"Month\", ylabel = \"Temperature (°C)\");"
   ]
  },
  {
   "cell_type": "markdown",
   "metadata": {},
   "source": [
    "## Question 10 - Discuss Plot (10 pts)\n",
    "Add a new Markdown cell below, and answer the following questions (4-6 sentences).\n",
    "\n",
    "1. Which months have the lowest and the highest temperatures? \n",
    "2. How much of a difference is there between the lowest and highest temperatures?\n",
    "***\n",
    "1. The highest monthly temperature based on the plots is found during **July** with a temperature of **24.888888888888886°C**. The lowest monthly temperature based on the plots is found during **December** with a temperature of **0.777777777777777°C**. See the code below for proof of this.\n",
    "2. There is a difference of **24.111111111111107°C** between the highest and lowest temperatures. See the code below for proof of this."
   ]
  },
  {
   "cell_type": "code",
   "execution_count": 53,
   "metadata": {},
   "outputs": [
    {
     "name": "stdout",
     "output_type": "stream",
     "text": [
      "The highest temperature is 24.888888888888886°C during July\n",
      "The lowest temperature is 0.777777777777777°C during December\n",
      "The difference in the maximum and minimum temperatures is 24.111111111111107°C\n"
     ]
    }
   ],
   "source": [
    "# find the index of the maximum temperature and use it to find the corresponding month\n",
    "high_index = temp.index(max)\n",
    "high_month = months[high_index]\n",
    "\n",
    "# find the index of the minimum temperature and use it to find the corresponding month\n",
    "low_index = temp.index(min)\n",
    "low_month = months[low_index]\n",
    "\n",
    "# print out the resulting temperatures and months\n",
    "print (\"The highest temperature is \" + str(max) + \"°C during \" + high_month)\n",
    "print (\"The lowest temperature is \" + str(min) + \"°C during \" + low_month)\n",
    "\n",
    "# find the difference between the highest and lowest temperatures\n",
    "range = max - min\n",
    "\n",
    "# print out the difference between the temperatures\n",
    "print (\"The difference in the maximum and minimum temperatures is \" + str(range) + \"°C\")"
   ]
  }
 ],
 "metadata": {
  "kernelspec": {
   "display_name": "Python 3",
   "language": "python",
   "name": "python3"
  },
  "language_info": {
   "codemirror_mode": {
    "name": "ipython",
    "version": 3
   },
   "file_extension": ".py",
   "mimetype": "text/x-python",
   "name": "python",
   "nbconvert_exporter": "python",
   "pygments_lexer": "ipython3",
   "version": "3.7.1"
  }
 },
 "nbformat": 4,
 "nbformat_minor": 2
}
