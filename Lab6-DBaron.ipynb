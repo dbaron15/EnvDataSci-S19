{
 "cells": [
  {
   "cell_type": "markdown",
   "metadata": {},
   "source": [
    "# Lab 6 - Loops and Conditional Statements\n",
    "- **Author:** Deana Baron\n",
    "- **Date:** 3/15/19"
   ]
  },
  {
   "cell_type": "markdown",
   "metadata": {},
   "source": [
    "## Question 2 - Import Necessary Python Packages (5 pts)\n",
    "\n",
    "In the questions below, you will be working with `numpy arrays`, and `pandas dataframes`.\n",
    "\n",
    "You will also be downloading files using `urllib.request`, accessing directories and files on your computer using `os`, and retrieving filenames using `glob.` Last, you will also be creating plots of your data using `matplotlib.pyplot`.\n",
    "\n",
    "Import all of the necessary Python packages to accomplish these tasks.\n",
    "***"
   ]
  },
  {
   "cell_type": "code",
   "execution_count": 1,
   "metadata": {},
   "outputs": [
    {
     "name": "stdout",
     "output_type": "stream",
     "text": [
      "Libraries were successfully imported!\n"
     ]
    }
   ],
   "source": [
    "# import the necessary python libraries\n",
    "import os\n",
    "from glob import glob\n",
    "import urllib.request\n",
    "import numpy as np\n",
    "import pandas as pd\n",
    "import matplotlib.pyplot as plt\n",
    "\n",
    "# print statement to show success of import\n",
    "print(\"Libraries were successfully imported!\")"
   ]
  },
  {
   "cell_type": "markdown",
   "metadata": {},
   "source": [
    "## Question 3 - Set current working directory (5pts)\n",
    "- use os.chdir() to set current working directory.\n",
    "- use os.getcwd() to check current workign directory\n",
    "***"
   ]
  },
  {
   "cell_type": "code",
   "execution_count": 2,
   "metadata": {},
   "outputs": [
    {
     "data": {
      "text/plain": [
       "'C:\\\\Users\\\\dbaron\\\\Documents'"
      ]
     },
     "execution_count": 2,
     "metadata": {},
     "output_type": "execute_result"
    }
   ],
   "source": [
    "# set the current working directory\n",
    "os.chdir('C:\\\\Users\\\\dbaron\\\\Documents')\n",
    "\n",
    "# check the current working directory after setting it\n",
    "os.getcwd()"
   ]
  },
  {
   "cell_type": "markdown",
   "metadata": {},
   "source": [
    "## Question 4 - Download FLX*.csv files into /data subdirectory (10pts)\n",
    "\n",
    "Use `urllib.request` to download the flux data for Harvard Forest and Hyytiala, Finland to your data directory. The location of the data is \n",
    "- http://www.geography.hunter.cuny.edu/~wenge/GTECH385-785/FLX_FI-Hyy_FLUXNET2015_SUBSET_YY_1996-2014_1-3.csv\n",
    "- http://www.geography.hunter.cuny.edu/~wenge/GTECH385-785/FLX_US-Ha1_FLUXNET2015_SUBSET_YY_1991-2012_1-3.csv\n",
    "\n",
    "* More information about the Harvard Forest site can be found<a href=\"http://sites.fluxdata.org/US-Ha1/\" target=\"_blank\"> here \n",
    "* More information about the Hyytiala site can be found<a href=\"http://sites.fluxdata.org/FI-Hyy/\" target=\"_blank\"> here\n",
    "***"
   ]
  },
  {
   "cell_type": "code",
   "execution_count": 3,
   "metadata": {},
   "outputs": [
    {
     "name": "stdout",
     "output_type": "stream",
     "text": [
      "Data is successfully downloaded!\n"
     ]
    }
   ],
   "source": [
    "# download the necessary csv files needed for this lab from the Internet\n",
    "\n",
    "# download the csv for the Hyytiala dataset\n",
    "urllib.request.urlretrieve(\n",
    "    url = \"http://www.geography.hunter.cuny.edu/~wenge/GTECH385-785/FLX_FI-Hyy_FLUXNET2015_SUBSET_YY_1996-2014_1-3.csv\",                  \n",
    "    filename = \"data/FLX_FI-Hyy_FLUXNET2015_SUBSET_YY_1996-2014_1-3.csv\"\n",
    ")\n",
    "\n",
    "# download the csv for the Harvard Forest\n",
    "urllib.request.urlretrieve(\n",
    "    url = \"http://www.geography.hunter.cuny.edu/~wenge/GTECH385-785/FLX_US-Ha1_FLUXNET2015_SUBSET_YY_1991-2012_1-3.csv\",                  \n",
    "    filename = \"data/FLX_US-Ha1_FLUXNET2015_SUBSET_YY_1991-2012_1-3.csv\"\n",
    ")\n",
    "\n",
    "# print statement to show successful data download\n",
    "print(\"Data is successfully downloaded!\")"
   ]
  },
  {
   "cell_type": "markdown",
   "metadata": {},
   "source": [
    "## Question 5: Use Glob To Create Lists of Filenames (10 pts)\n",
    "1. Change working directory to data and  create a list of all files containting keywork \"FLX\" in your working directory \n",
    "2. Print these lists of filenames.\n",
    "***"
   ]
  },
  {
   "cell_type": "code",
   "execution_count": 4,
   "metadata": {},
   "outputs": [
    {
     "name": "stdout",
     "output_type": "stream",
     "text": [
      "['FLX_FI-Hyy_FLUXNET2015_SUBSET_YY_1996-2014_1-3.csv', 'FLX_US-Ha1_FLUXNET2015_SUBSET_YY_1991-2012_1-3.csv']\n"
     ]
    }
   ],
   "source": [
    "# change the current working directory to the `data` subfolder\n",
    "os.chdir('C:\\\\Users\\\\dbaron\\\\Documents\\\\data')\n",
    "\n",
    "# create a print a list of all the filenames that contain \"flx\" using glob\n",
    "filelist = glob(\"*FLX*\")\n",
    "print(filelist)"
   ]
  },
  {
   "cell_type": "markdown",
   "metadata": {},
   "source": [
    "## Question 6: Import CSV Files Into Pandas Dataframes (10 pts)\n",
    "\n",
    "1. Import each csv file into a new pandas dataframe.\n",
    "2. Print your pandas dataframes. Notice the structures of your csv pandas dataframes.\n",
    "***"
   ]
  },
  {
   "cell_type": "code",
   "execution_count": 5,
   "metadata": {},
   "outputs": [
    {
     "name": "stdout",
     "output_type": "stream",
     "text": [
      "<class 'pandas.core.frame.DataFrame'>\n",
      "RangeIndex: 19 entries, 0 to 18\n",
      "Data columns (total 90 columns):\n",
      "TIMESTAMP              19 non-null int64\n",
      "TA_F                   19 non-null float64\n",
      "TA_F_QC                19 non-null float64\n",
      "SW_IN_F                19 non-null float64\n",
      "SW_IN_F_QC             19 non-null float64\n",
      "LW_IN_F                19 non-null float64\n",
      "LW_IN_F_QC             19 non-null float64\n",
      "VPD_F                  19 non-null float64\n",
      "VPD_F_QC               19 non-null float64\n",
      "PA_F                   19 non-null float64\n",
      "PA_F_QC                19 non-null float64\n",
      "P_F                    19 non-null float64\n",
      "P_F_QC                 19 non-null float64\n",
      "WS_F                   19 non-null float64\n",
      "WS_F_QC                19 non-null float64\n",
      "USTAR                  19 non-null float64\n",
      "USTAR_QC               19 non-null float64\n",
      "NETRAD                 19 non-null float64\n",
      "NETRAD_QC              19 non-null float64\n",
      "PPFD_IN                19 non-null float64\n",
      "PPFD_IN_QC             19 non-null float64\n",
      "PPFD_DIF               19 non-null float64\n",
      "PPFD_DIF_QC            19 non-null float64\n",
      "PPFD_OUT               19 non-null float64\n",
      "PPFD_OUT_QC            19 non-null float64\n",
      "SW_DIF                 19 non-null float64\n",
      "SW_DIF_QC              19 non-null float64\n",
      "SW_OUT                 19 non-null float64\n",
      "SW_OUT_QC              19 non-null float64\n",
      "LW_OUT                 19 non-null float64\n",
      "LW_OUT_QC              19 non-null float64\n",
      "CO2_F_MDS              19 non-null float64\n",
      "CO2_F_MDS_QC           19 non-null float64\n",
      "TS_F_MDS_1             19 non-null float64\n",
      "TS_F_MDS_2             19 non-null float64\n",
      "TS_F_MDS_3             19 non-null float64\n",
      "TS_F_MDS_4             19 non-null float64\n",
      "TS_F_MDS_5             19 non-null float64\n",
      "TS_F_MDS_1_QC          19 non-null float64\n",
      "TS_F_MDS_2_QC          19 non-null float64\n",
      "TS_F_MDS_3_QC          19 non-null float64\n",
      "TS_F_MDS_4_QC          19 non-null float64\n",
      "TS_F_MDS_5_QC          19 non-null float64\n",
      "SWC_F_MDS_1            19 non-null float64\n",
      "SWC_F_MDS_2            19 non-null float64\n",
      "SWC_F_MDS_3            19 non-null float64\n",
      "SWC_F_MDS_4            19 non-null float64\n",
      "SWC_F_MDS_5            19 non-null float64\n",
      "SWC_F_MDS_1_QC         19 non-null float64\n",
      "SWC_F_MDS_2_QC         19 non-null float64\n",
      "SWC_F_MDS_3_QC         19 non-null float64\n",
      "SWC_F_MDS_4_QC         19 non-null float64\n",
      "SWC_F_MDS_5_QC         19 non-null float64\n",
      "G_F_MDS                19 non-null float64\n",
      "G_F_MDS_QC             19 non-null float64\n",
      "LE_F_MDS               19 non-null float64\n",
      "LE_F_MDS_QC            19 non-null float64\n",
      "LE_CORR                19 non-null float64\n",
      "LE_RANDUNC             19 non-null float64\n",
      "H_F_MDS                19 non-null float64\n",
      "H_F_MDS_QC             19 non-null float64\n",
      "H_CORR                 19 non-null float64\n",
      "H_RANDUNC              19 non-null float64\n",
      "NEE_VUT_REF            19 non-null float64\n",
      "NEE_VUT_REF_QC         19 non-null float64\n",
      "NEE_VUT_REF_RANDUNC    19 non-null float64\n",
      "NEE_VUT_25             19 non-null float64\n",
      "NEE_VUT_50             19 non-null float64\n",
      "NEE_VUT_75             19 non-null float64\n",
      "NEE_VUT_25_QC          19 non-null float64\n",
      "NEE_VUT_50_QC          19 non-null float64\n",
      "NEE_VUT_75_QC          19 non-null float64\n",
      "RECO_NT_VUT_REF        19 non-null float64\n",
      "RECO_NT_VUT_25         19 non-null float64\n",
      "RECO_NT_VUT_50         19 non-null float64\n",
      "RECO_NT_VUT_75         19 non-null float64\n",
      "GPP_NT_VUT_REF         19 non-null float64\n",
      "GPP_NT_VUT_25          19 non-null float64\n",
      "GPP_NT_VUT_50          19 non-null float64\n",
      "GPP_NT_VUT_75          19 non-null float64\n",
      "RECO_DT_VUT_REF        19 non-null float64\n",
      "RECO_DT_VUT_25         19 non-null float64\n",
      "RECO_DT_VUT_50         19 non-null float64\n",
      "RECO_DT_VUT_75         19 non-null float64\n",
      "GPP_DT_VUT_REF         19 non-null float64\n",
      "GPP_DT_VUT_25          19 non-null float64\n",
      "GPP_DT_VUT_50          19 non-null float64\n",
      "GPP_DT_VUT_75          19 non-null float64\n",
      "RECO_SR                19 non-null float64\n",
      "RECO_SR_N              19 non-null float64\n",
      "dtypes: float64(89), int64(1)\n",
      "memory usage: 13.4 KB\n"
     ]
    }
   ],
   "source": [
    "# import Hyytiala data into a dataframe and print the dataframe\n",
    "flux_hyy = pd.read_csv(\"FLX_FI-Hyy_FLUXNET2015_SUBSET_YY_1996-2014_1-3.csv\", delimiter=\",\")\n",
    "flux_hyy.info()"
   ]
  },
  {
   "cell_type": "code",
   "execution_count": 6,
   "metadata": {},
   "outputs": [
    {
     "name": "stdout",
     "output_type": "stream",
     "text": [
      "<class 'pandas.core.frame.DataFrame'>\n",
      "RangeIndex: 22 entries, 0 to 21\n",
      "Data columns (total 62 columns):\n",
      "TIMESTAMP              22 non-null int64\n",
      "TA_F                   22 non-null float64\n",
      "TA_F_QC                22 non-null float64\n",
      "SW_IN_F                22 non-null float64\n",
      "SW_IN_F_QC             22 non-null float64\n",
      "LW_IN_F                22 non-null float64\n",
      "LW_IN_F_QC             22 non-null float64\n",
      "VPD_F                  22 non-null float64\n",
      "VPD_F_QC               22 non-null float64\n",
      "PA_F                   22 non-null float64\n",
      "PA_F_QC                22 non-null float64\n",
      "P_F                    22 non-null float64\n",
      "P_F_QC                 22 non-null float64\n",
      "WS_F                   22 non-null float64\n",
      "WS_F_QC                22 non-null float64\n",
      "USTAR                  22 non-null float64\n",
      "USTAR_QC               22 non-null float64\n",
      "NETRAD                 22 non-null float64\n",
      "NETRAD_QC              22 non-null float64\n",
      "PPFD_IN                22 non-null float64\n",
      "PPFD_IN_QC             22 non-null float64\n",
      "CO2_F_MDS              22 non-null float64\n",
      "CO2_F_MDS_QC           22 non-null float64\n",
      "TS_F_MDS_1             22 non-null float64\n",
      "TS_F_MDS_1_QC          22 non-null float64\n",
      "G_F_MDS                22 non-null int64\n",
      "G_F_MDS_QC             22 non-null float64\n",
      "LE_F_MDS               22 non-null float64\n",
      "LE_F_MDS_QC            22 non-null int64\n",
      "LE_CORR                22 non-null int64\n",
      "LE_RANDUNC             22 non-null float64\n",
      "H_F_MDS                22 non-null float64\n",
      "H_F_MDS_QC             22 non-null int64\n",
      "H_CORR                 22 non-null int64\n",
      "H_RANDUNC              22 non-null float64\n",
      "NEE_VUT_REF            22 non-null float64\n",
      "NEE_VUT_REF_QC         22 non-null float64\n",
      "NEE_VUT_REF_RANDUNC    22 non-null float64\n",
      "NEE_VUT_25             22 non-null float64\n",
      "NEE_VUT_50             22 non-null float64\n",
      "NEE_VUT_75             22 non-null float64\n",
      "NEE_VUT_25_QC          22 non-null float64\n",
      "NEE_VUT_50_QC          22 non-null float64\n",
      "NEE_VUT_75_QC          22 non-null float64\n",
      "RECO_NT_VUT_REF        22 non-null float64\n",
      "RECO_NT_VUT_25         22 non-null float64\n",
      "RECO_NT_VUT_50         22 non-null float64\n",
      "RECO_NT_VUT_75         22 non-null float64\n",
      "GPP_NT_VUT_REF         22 non-null float64\n",
      "GPP_NT_VUT_25          22 non-null float64\n",
      "GPP_NT_VUT_50          22 non-null float64\n",
      "GPP_NT_VUT_75          22 non-null float64\n",
      "RECO_DT_VUT_REF        22 non-null float64\n",
      "RECO_DT_VUT_25         22 non-null float64\n",
      "RECO_DT_VUT_50         22 non-null float64\n",
      "RECO_DT_VUT_75         22 non-null float64\n",
      "GPP_DT_VUT_REF         22 non-null float64\n",
      "GPP_DT_VUT_25          22 non-null float64\n",
      "GPP_DT_VUT_50          22 non-null float64\n",
      "GPP_DT_VUT_75          22 non-null float64\n",
      "RECO_SR                22 non-null float64\n",
      "RECO_SR_N              22 non-null float64\n",
      "dtypes: float64(56), int64(6)\n",
      "memory usage: 10.7 KB\n"
     ]
    }
   ],
   "source": [
    "# import Harvard Forest data into a dataframe and print the dataframe\n",
    "flux_hf = pd.read_csv(\"FLX_US-Ha1_FLUXNET2015_SUBSET_YY_1991-2012_1-3.csv\", delimiter=\",\")\n",
    "flux_hf.info()"
   ]
  },
  {
   "cell_type": "markdown",
   "metadata": {},
   "source": [
    "## Question 7 -  Create the column list of dataframe - flux (10pts)"
   ]
  },
  {
   "cell_type": "code",
   "execution_count": 7,
   "metadata": {},
   "outputs": [
    {
     "name": "stdout",
     "output_type": "stream",
     "text": [
      "['TIMESTAMP', 'TA_F', 'TA_F_QC', 'SW_IN_F', 'SW_IN_F_QC', 'LW_IN_F', 'LW_IN_F_QC', 'VPD_F', 'VPD_F_QC', 'PA_F', 'PA_F_QC', 'P_F', 'P_F_QC', 'WS_F', 'WS_F_QC', 'USTAR', 'USTAR_QC', 'NETRAD', 'NETRAD_QC', 'PPFD_IN', 'PPFD_IN_QC', 'PPFD_DIF', 'PPFD_DIF_QC', 'PPFD_OUT', 'PPFD_OUT_QC', 'SW_DIF', 'SW_DIF_QC', 'SW_OUT', 'SW_OUT_QC', 'LW_OUT', 'LW_OUT_QC', 'CO2_F_MDS', 'CO2_F_MDS_QC', 'TS_F_MDS_1', 'TS_F_MDS_2', 'TS_F_MDS_3', 'TS_F_MDS_4', 'TS_F_MDS_5', 'TS_F_MDS_1_QC', 'TS_F_MDS_2_QC', 'TS_F_MDS_3_QC', 'TS_F_MDS_4_QC', 'TS_F_MDS_5_QC', 'SWC_F_MDS_1', 'SWC_F_MDS_2', 'SWC_F_MDS_3', 'SWC_F_MDS_4', 'SWC_F_MDS_5', 'SWC_F_MDS_1_QC', 'SWC_F_MDS_2_QC', 'SWC_F_MDS_3_QC', 'SWC_F_MDS_4_QC', 'SWC_F_MDS_5_QC', 'G_F_MDS', 'G_F_MDS_QC', 'LE_F_MDS', 'LE_F_MDS_QC', 'LE_CORR', 'LE_RANDUNC', 'H_F_MDS', 'H_F_MDS_QC', 'H_CORR', 'H_RANDUNC', 'NEE_VUT_REF', 'NEE_VUT_REF_QC', 'NEE_VUT_REF_RANDUNC', 'NEE_VUT_25', 'NEE_VUT_50', 'NEE_VUT_75', 'NEE_VUT_25_QC', 'NEE_VUT_50_QC', 'NEE_VUT_75_QC', 'RECO_NT_VUT_REF', 'RECO_NT_VUT_25', 'RECO_NT_VUT_50', 'RECO_NT_VUT_75', 'GPP_NT_VUT_REF', 'GPP_NT_VUT_25', 'GPP_NT_VUT_50', 'GPP_NT_VUT_75', 'RECO_DT_VUT_REF', 'RECO_DT_VUT_25', 'RECO_DT_VUT_50', 'RECO_DT_VUT_75', 'GPP_DT_VUT_REF', 'GPP_DT_VUT_25', 'GPP_DT_VUT_50', 'GPP_DT_VUT_75', 'RECO_SR', 'RECO_SR_N']\n"
     ]
    }
   ],
   "source": [
    "# create and print the names of all the columns for Hyytiala dataset\n",
    "hyy_columnlist = list(flux_hyy)\n",
    "print(hyy_columnlist)"
   ]
  },
  {
   "cell_type": "code",
   "execution_count": 8,
   "metadata": {},
   "outputs": [
    {
     "name": "stdout",
     "output_type": "stream",
     "text": [
      "['TIMESTAMP', 'TA_F', 'TA_F_QC', 'SW_IN_F', 'SW_IN_F_QC', 'LW_IN_F', 'LW_IN_F_QC', 'VPD_F', 'VPD_F_QC', 'PA_F', 'PA_F_QC', 'P_F', 'P_F_QC', 'WS_F', 'WS_F_QC', 'USTAR', 'USTAR_QC', 'NETRAD', 'NETRAD_QC', 'PPFD_IN', 'PPFD_IN_QC', 'CO2_F_MDS', 'CO2_F_MDS_QC', 'TS_F_MDS_1', 'TS_F_MDS_1_QC', 'G_F_MDS', 'G_F_MDS_QC', 'LE_F_MDS', 'LE_F_MDS_QC', 'LE_CORR', 'LE_RANDUNC', 'H_F_MDS', 'H_F_MDS_QC', 'H_CORR', 'H_RANDUNC', 'NEE_VUT_REF', 'NEE_VUT_REF_QC', 'NEE_VUT_REF_RANDUNC', 'NEE_VUT_25', 'NEE_VUT_50', 'NEE_VUT_75', 'NEE_VUT_25_QC', 'NEE_VUT_50_QC', 'NEE_VUT_75_QC', 'RECO_NT_VUT_REF', 'RECO_NT_VUT_25', 'RECO_NT_VUT_50', 'RECO_NT_VUT_75', 'GPP_NT_VUT_REF', 'GPP_NT_VUT_25', 'GPP_NT_VUT_50', 'GPP_NT_VUT_75', 'RECO_DT_VUT_REF', 'RECO_DT_VUT_25', 'RECO_DT_VUT_50', 'RECO_DT_VUT_75', 'GPP_DT_VUT_REF', 'GPP_DT_VUT_25', 'GPP_DT_VUT_50', 'GPP_DT_VUT_75', 'RECO_SR', 'RECO_SR_N']\n"
     ]
    }
   ],
   "source": [
    "# create and print the names of all the columns for the Harvard Forest dataset\n",
    "hf_columnlist = list(flux_hf)\n",
    "print(hf_columnlist)"
   ]
  },
  {
   "cell_type": "markdown",
   "metadata": {},
   "source": [
    "## Question 8 - Create a new columnlist including the following columns and then calculate their statistics (10pts)\n",
    "\n",
    "* NEE_VUT_REF, but not NEE_VUT_REF_QC  not  NEE_VUT_REF_RANDUNC\n",
    "* GPP_NT_VUT_REF\n",
    "* RECO_NT_VUT_REF\n",
    "***"
   ]
  },
  {
   "cell_type": "code",
   "execution_count": 9,
   "metadata": {},
   "outputs": [
    {
     "name": "stdout",
     "output_type": "stream",
     "text": [
      "['NEE_VUT_REF', 'RECO_NT_VUT_REF', 'GPP_NT_VUT_REF']\n"
     ]
    }
   ],
   "source": [
    "# create a new column list for the Hyytiala dataset\n",
    "hyy_newcolumnlist = []\n",
    "for list in hyy_columnlist:\n",
    "    if ((\"NEE_VUT_REF\" in list) and (\"QC\" not in list) and (\"RANDUNC\" not in list) \n",
    "    or (\"GPP_NT_VUT_REF\" in list) or (\"RECO_NT_VUT_REF\" in list)):\n",
    "        hyy_newcolumnlist += [list]\n",
    "        \n",
    "# print the new columns list\n",
    "print(hyy_newcolumnlist)"
   ]
  },
  {
   "cell_type": "code",
   "execution_count": 10,
   "metadata": {},
   "outputs": [
    {
     "name": "stdout",
     "output_type": "stream",
     "text": [
      "['NEE_VUT_REF', 'RECO_NT_VUT_REF', 'GPP_NT_VUT_REF']\n"
     ]
    }
   ],
   "source": [
    "# create a new column list for the Harvard Forest dataset\n",
    "hf_newcolumnlist = []\n",
    "for list in hf_columnlist:\n",
    "    if ((\"NEE_VUT_REF\" in list) and (\"QC\" not in list) and (\"RANDUNC\" not in list) \n",
    "    or (\"GPP_NT_VUT_REF\" in list) or (\"RECO_NT_VUT_REF\" in list)):\n",
    "        hf_newcolumnlist += [list]\n",
    "        \n",
    "# print the new columns list\n",
    "print(hf_newcolumnlist)"
   ]
  },
  {
   "cell_type": "markdown",
   "metadata": {},
   "source": [
    "## Question 9: Summarize the statistics of the new columnlist  (10 pts)\n",
    "***\n",
    "This can be done by using the new column list to call the describe method for dataframes."
   ]
  },
  {
   "cell_type": "code",
   "execution_count": 11,
   "metadata": {},
   "outputs": [
    {
     "data": {
      "text/html": [
       "<div>\n",
       "<style scoped>\n",
       "    .dataframe tbody tr th:only-of-type {\n",
       "        vertical-align: middle;\n",
       "    }\n",
       "\n",
       "    .dataframe tbody tr th {\n",
       "        vertical-align: top;\n",
       "    }\n",
       "\n",
       "    .dataframe thead th {\n",
       "        text-align: right;\n",
       "    }\n",
       "</style>\n",
       "<table border=\"1\" class=\"dataframe\">\n",
       "  <thead>\n",
       "    <tr style=\"text-align: right;\">\n",
       "      <th></th>\n",
       "      <th>NEE_VUT_REF</th>\n",
       "      <th>RECO_NT_VUT_REF</th>\n",
       "      <th>GPP_NT_VUT_REF</th>\n",
       "    </tr>\n",
       "  </thead>\n",
       "  <tbody>\n",
       "    <tr>\n",
       "      <th>count</th>\n",
       "      <td>19.000000</td>\n",
       "      <td>19.000000</td>\n",
       "      <td>19.000000</td>\n",
       "    </tr>\n",
       "    <tr>\n",
       "      <th>mean</th>\n",
       "      <td>-246.317053</td>\n",
       "      <td>913.987000</td>\n",
       "      <td>1159.516316</td>\n",
       "    </tr>\n",
       "    <tr>\n",
       "      <th>std</th>\n",
       "      <td>147.679597</td>\n",
       "      <td>72.230999</td>\n",
       "      <td>192.610755</td>\n",
       "    </tr>\n",
       "    <tr>\n",
       "      <th>min</th>\n",
       "      <td>-817.906000</td>\n",
       "      <td>777.141000</td>\n",
       "      <td>1007.060000</td>\n",
       "    </tr>\n",
       "    <tr>\n",
       "      <th>25%</th>\n",
       "      <td>-256.065000</td>\n",
       "      <td>864.696500</td>\n",
       "      <td>1055.950000</td>\n",
       "    </tr>\n",
       "    <tr>\n",
       "      <th>50%</th>\n",
       "      <td>-216.980000</td>\n",
       "      <td>910.997000</td>\n",
       "      <td>1124.750000</td>\n",
       "    </tr>\n",
       "    <tr>\n",
       "      <th>75%</th>\n",
       "      <td>-175.103000</td>\n",
       "      <td>946.589500</td>\n",
       "      <td>1193.880000</td>\n",
       "    </tr>\n",
       "    <tr>\n",
       "      <th>max</th>\n",
       "      <td>-121.999000</td>\n",
       "      <td>1079.710000</td>\n",
       "      <td>1883.140000</td>\n",
       "    </tr>\n",
       "  </tbody>\n",
       "</table>\n",
       "</div>"
      ],
      "text/plain": [
       "       NEE_VUT_REF  RECO_NT_VUT_REF  GPP_NT_VUT_REF\n",
       "count    19.000000        19.000000       19.000000\n",
       "mean   -246.317053       913.987000     1159.516316\n",
       "std     147.679597        72.230999      192.610755\n",
       "min    -817.906000       777.141000     1007.060000\n",
       "25%    -256.065000       864.696500     1055.950000\n",
       "50%    -216.980000       910.997000     1124.750000\n",
       "75%    -175.103000       946.589500     1193.880000\n",
       "max    -121.999000      1079.710000     1883.140000"
      ]
     },
     "execution_count": 11,
     "metadata": {},
     "output_type": "execute_result"
    }
   ],
   "source": [
    "# print the statistics for the Hyytiala dataset\n",
    "flux_hyy[hyy_newcolumnlist].describe()"
   ]
  },
  {
   "cell_type": "code",
   "execution_count": 12,
   "metadata": {},
   "outputs": [
    {
     "data": {
      "text/html": [
       "<div>\n",
       "<style scoped>\n",
       "    .dataframe tbody tr th:only-of-type {\n",
       "        vertical-align: middle;\n",
       "    }\n",
       "\n",
       "    .dataframe tbody tr th {\n",
       "        vertical-align: top;\n",
       "    }\n",
       "\n",
       "    .dataframe thead th {\n",
       "        text-align: right;\n",
       "    }\n",
       "</style>\n",
       "<table border=\"1\" class=\"dataframe\">\n",
       "  <thead>\n",
       "    <tr style=\"text-align: right;\">\n",
       "      <th></th>\n",
       "      <th>NEE_VUT_REF</th>\n",
       "      <th>RECO_NT_VUT_REF</th>\n",
       "      <th>GPP_NT_VUT_REF</th>\n",
       "    </tr>\n",
       "  </thead>\n",
       "  <tbody>\n",
       "    <tr>\n",
       "      <th>count</th>\n",
       "      <td>22.000000</td>\n",
       "      <td>22.000000</td>\n",
       "      <td>22.000000</td>\n",
       "    </tr>\n",
       "    <tr>\n",
       "      <th>mean</th>\n",
       "      <td>-201.940036</td>\n",
       "      <td>1207.546909</td>\n",
       "      <td>1422.417682</td>\n",
       "    </tr>\n",
       "    <tr>\n",
       "      <th>std</th>\n",
       "      <td>231.793507</td>\n",
       "      <td>302.158588</td>\n",
       "      <td>327.229219</td>\n",
       "    </tr>\n",
       "    <tr>\n",
       "      <th>min</th>\n",
       "      <td>-631.629000</td>\n",
       "      <td>635.652000</td>\n",
       "      <td>337.099000</td>\n",
       "    </tr>\n",
       "    <tr>\n",
       "      <th>25%</th>\n",
       "      <td>-367.273500</td>\n",
       "      <td>1047.232500</td>\n",
       "      <td>1270.020000</td>\n",
       "    </tr>\n",
       "    <tr>\n",
       "      <th>50%</th>\n",
       "      <td>-188.374000</td>\n",
       "      <td>1177.675000</td>\n",
       "      <td>1459.110000</td>\n",
       "    </tr>\n",
       "    <tr>\n",
       "      <th>75%</th>\n",
       "      <td>-101.955650</td>\n",
       "      <td>1272.102500</td>\n",
       "      <td>1623.117500</td>\n",
       "    </tr>\n",
       "    <tr>\n",
       "      <th>max</th>\n",
       "      <td>298.869000</td>\n",
       "      <td>2202.910000</td>\n",
       "      <td>2023.180000</td>\n",
       "    </tr>\n",
       "  </tbody>\n",
       "</table>\n",
       "</div>"
      ],
      "text/plain": [
       "       NEE_VUT_REF  RECO_NT_VUT_REF  GPP_NT_VUT_REF\n",
       "count    22.000000        22.000000       22.000000\n",
       "mean   -201.940036      1207.546909     1422.417682\n",
       "std     231.793507       302.158588      327.229219\n",
       "min    -631.629000       635.652000      337.099000\n",
       "25%    -367.273500      1047.232500     1270.020000\n",
       "50%    -188.374000      1177.675000     1459.110000\n",
       "75%    -101.955650      1272.102500     1623.117500\n",
       "max     298.869000      2202.910000     2023.180000"
      ]
     },
     "execution_count": 12,
     "metadata": {},
     "output_type": "execute_result"
    }
   ],
   "source": [
    "# print the statistics for the Harvard Forest dataset\n",
    "flux_hf[hf_newcolumnlist].describe()"
   ]
  },
  {
   "cell_type": "markdown",
   "metadata": {},
   "source": [
    "## Question 10:  Plot time series of GPP, NEE and RE  (15 pts)\n",
    "1. Plot the annual GPP, RE and NEE for Harvard Forest in three subplots, their units are  gC m-2 y-1),  \n",
    "2. overplot the difference of RE and GPP (RE-GPP) on the NEE subplot. "
   ]
  },
  {
   "cell_type": "code",
   "execution_count": 13,
   "metadata": {},
   "outputs": [
    {
     "data": {
      "image/png": "[encoded data removed]",
      "text/plain": [
       "<Figure size 720x720 with 3 Axes>"
      ]
     },
     "metadata": {
      "needs_background": "light"
     },
     "output_type": "display_data"
    }
   ],
   "source": [
    "# plot the timeseries for the different variables for the Harvard Forest dataset\n",
    "\n",
    "# set plot size for all plots\n",
    "plt.rcParams[\"figure.figsize\"] = (10, 10)\n",
    "\n",
    "# set two subplots for the figure\n",
    "fig, (ax1, ax2, ax3) = plt.subplots(3, sharex=True)\n",
    "\n",
    "# add labels to the axes\n",
    "ax1.set(xlabel=\"Year\", ylabel=\"NEE (gC m^-2 y^-1)\");\n",
    "\n",
    "# load the NEE for the Harvard Forest, overlayed with NEE from Hyytiala\n",
    "ax1.plot(flux_hf[\"TIMESTAMP\"], flux_hf[hf_newcolumnlist[0]], color=\"red\")\n",
    "ax1.plot(flux_hyy[\"TIMESTAMP\"], flux_hyy[hyy_newcolumnlist[0]], color=\"blue\")\n",
    "\n",
    "# set plot title\n",
    "ax1.set(title=\"Harvard Forest vs Hyytiala Annual Net Ecosystem Exchange\")\n",
    "\n",
    "# add labels to the next axes\n",
    "ax2.set(xlabel=\"Year\", ylabel=\"GPP (gC m^-2 y^-1)\");\n",
    "\n",
    "# load the GPP for the Harvard Forest\n",
    "ax2.plot(flux_hf[\"TIMESTAMP\"], flux_hf[hf_newcolumnlist[2]], color=\"red\")\n",
    "\n",
    "# set second plot title\n",
    "ax2.set(title=\"Harvard Forest Annual Gross Primary Production\")\n",
    "\n",
    "# add labels to the next axes\n",
    "ax3.set(xlabel=\"Year\", ylabel=\"RE (gC m^-2 y^-1)\");\n",
    "\n",
    "# load the GPP for the Harvard Forest\n",
    "ax3.plot(flux_hf[\"TIMESTAMP\"], flux_hf[hf_newcolumnlist[1]], color=\"red\")\n",
    "\n",
    "# set third plot title\n",
    "ax3.set(title=\"Harvard Forest Annual Ecosystem Respiration\");"
   ]
  },
  {
   "cell_type": "markdown",
   "metadata": {},
   "source": [
    "## Question 11: Discuss Plots (10 pts)\n",
    "\n",
    "1. What is the trend of GPP, RE, and NEE? \n",
    "2. How is NEE is related to GPP and RE? Why? \n",
    "3. Would it be possible to use a loop to make the questions #6-10 be easier? If yes, explain how.\n",
    "***\n",
    "1. In the beginning years of data, NEE is inversely related to GPP and RE. Afterwards, all three variables seem to have the same patterns throughout time, most notably the large spike in RE, GPP, and NEE in 2010. Overall, NEE and RE appear to be decreasing, but GPP is increasing slightly.\n",
    "2. NEE is a function of GPP and RE in that NEE = RE - GPP. This is why NEE can be negative. Therefore, changes in NEE are directly related to changes in GPP and RE. This is why there is a general spike in all values at 2010; an increase in GPP and RE will increase the NEE. \n",
    "3. Yes this can be written with a loop. You can load the original CSV files that are in your directory with the `glob.glob()` function. A `for` loop can be written to go through each file in the resulting list, import the csv into a dataframe, create and print the column list, write a nested for loop to get the columns we want, and then describe the statistics for the dataframe by calling the list on the dataframe. See below."
   ]
  },
  {
   "cell_type": "code",
   "execution_count": null,
   "metadata": {},
   "outputs": [],
   "source": [
    "# load all csv files in directory\n",
    "files = glob.glob(\"*.csv\")\n",
    "\n",
    "# loop to convert and plot NEE, GPP, and RE\n",
    "for file in files:\n",
    "    df = pd.read_csv(file, delimiter=\",\")\n",
    "    columnlist = list(file)\n",
    "    newcolumnlist = []\n",
    "    for list in columnlist:\n",
    "        if ((\"NEE_VUT_REF\" in list) and (\"QC\" not in list) and (\"RANDUNC\" not in list) \n",
    "        or (\"GPP_NT_VUT_REF\" in list) or (\"RECO_NT_VUT_REF\" in list)):\n",
    "            newcolumnlist += [list]\n",
    "    df[newcolumnlist].describe()\n",
    "    \n",
    "    plt.rcParams[\"figure.figsize\"] = (10, 10)\n",
    "    fig, (ax1, ax2, ax3) = plt.subplots(3, sharex=True)\n",
    "    ax1.set(xlabel=\"Year\", ylabel=\"NEE (gC m^-2 y^-1)\");\n",
    "    # load the NEE \n",
    "    ax1.plot(df[\"TIMESTAMP\"], df[hf_newcolumnlist[0]], color=\"red\")\n",
    "    ax1.set(title=\"Net Ecosystem Exchange\")\n",
    "\n",
    "    ax2.set(xlabel=\"Year\", ylabel=\"GPP (gC m^-2 y^-1)\");\n",
    "\n",
    "    # load the GPP\n",
    "    ax2.plot(df[\"TIMESTAMP\"], df[hf_newcolumnlist[2]], color=\"red\")\n",
    "    ax2.set(title=\"Gross Primary Production\")\n",
    "\n",
    "\n",
    "    ax3.set(xlabel=\"Year\", ylabel=\"RE (gC m^-2 y^-1)\");\n",
    "\n",
    "    # load the RE\n",
    "    ax3.plot(df[\"TIMESTAMP\"], df[hf_newcolumnlist[1]], color=\"red\")\n",
    "    ax3.set(title=\"Harvard Forest Annual Ecosystem Respiration\");\n",
    "    fig.savefig()"
   ]
  },
  {
   "cell_type": "markdown",
   "metadata": {},
   "source": [
    "## Bonus Question: OverPlot GPP, RE and NEE for Harvard Forest and Hyytiala and compare their differences (10pts)"
   ]
  },
  {
   "cell_type": "code",
   "execution_count": 17,
   "metadata": {},
   "outputs": [
    {
     "data": {
      "image/png": "[encoded data removed]",
      "text/plain": [
       "<Figure size 720x720 with 3 Axes>"
      ]
     },
     "metadata": {
      "needs_background": "light"
     },
     "output_type": "display_data"
    }
   ],
   "source": [
    "# plot the timeseries for the different variables for both datasets\n",
    "\n",
    "# set plot size for all plots\n",
    "plt.rcParams[\"figure.figsize\"] = (10, 10)\n",
    "\n",
    "# set two subplots for the figure\n",
    "fig, (ax1, ax2, ax3) = plt.subplots(3, sharex=True)\n",
    "\n",
    "# add labels to the axes\n",
    "ax1.set(xlabel=\"Year\", ylabel=\"NEE (gC m^-2 y^-1)\");\n",
    "\n",
    "# load the NEE for the Harvard Forest, overlayed with NEE from Hyytiala\n",
    "ax1.plot(flux_hf[\"TIMESTAMP\"], flux_hf[hf_newcolumnlist[0]], color=\"red\", label='Harvard Forest')\n",
    "ax1.plot(flux_hyy[\"TIMESTAMP\"], flux_hyy[hyy_newcolumnlist[0]], color=\"blue\", label='Hyytiala')\n",
    "ax1.legend()\n",
    "\n",
    "# set plot title\n",
    "ax1.set(title=\"Harvard Forest vs Hyytiala Annual Net Ecosystem Exchange\")\n",
    "\n",
    "# add labels to the next axes\n",
    "ax2.set(xlabel=\"Year\", ylabel=\"GPP (gC m^-2 y^-1)\");\n",
    "\n",
    "# load the GPP for the Harvard Forest\n",
    "ax2.plot(flux_hf[\"TIMESTAMP\"], flux_hf[hf_newcolumnlist[2]], color=\"red\", label='Harvard Forest')\n",
    "ax2.plot(flux_hyy[\"TIMESTAMP\"], flux_hyy[hyy_newcolumnlist[2]], color=\"blue\", label='Hyytiala')\n",
    "ax2.legend()\n",
    "\n",
    "# set second plot title\n",
    "ax2.set(title=\"Harvard Forest vs Hyytiala Annual Gross Primary Production\")\n",
    "\n",
    "# add labels to the next axes\n",
    "ax3.set(xlabel=\"Year\", ylabel=\"RE (gC m^-2 y^-1)\");\n",
    "\n",
    "# load the RE for the Harvard Forest\n",
    "ax3.plot(flux_hf[\"TIMESTAMP\"], flux_hf[hf_newcolumnlist[1]], color=\"red\", label='Harvard Forest')\n",
    "ax3.plot(flux_hyy[\"TIMESTAMP\"], flux_hyy[hyy_newcolumnlist[2]], color=\"blue\", label='Hyytiala')\n",
    "ax3.legend()\n",
    "\n",
    "# set third plot title\n",
    "ax3.set(title=\"Harvard Forest vs Hyytiala Annual Ecosystem Respiration\");"
   ]
  },
  {
   "cell_type": "markdown",
   "metadata": {},
   "source": [
    "These two flux datasets are very different from each other. This would make sense because these forests are located on different continents in different sorts of environments and climates. The beginning of the Hyytiala dataset has a sharp increase in NEE and decreases in GPP and RE. Afterwards, it stabilizes for the rest of the dataset. That means the annual NEE, GPP, and RE are relatively consistent throughout the rest of the timeline. The Harvard Forest dataset on the other hand varies much more frequently, likely due to differences in environmental conditions. The Harvard Forest is located in a much more concentrated area than Hyytiala appears to be. Harvard Forest might be much more sensitive to differences in the atmosphere than Hyytiala. Also, the different species of plants in each forest might also contribute to the differences."
   ]
  },
  {
   "cell_type": "code",
   "execution_count": null,
   "metadata": {},
   "outputs": [],
   "source": []
  }
 ],
 "metadata": {
  "kernelspec": {
   "display_name": "Python 3",
   "language": "python",
   "name": "python3"
  },
  "language_info": {
   "codemirror_mode": {
    "name": "ipython",
    "version": 3
   },
   "file_extension": ".py",
   "mimetype": "text/x-python",
   "name": "python",
   "nbconvert_exporter": "python",
   "pygments_lexer": "ipython3",
   "version": "3.7.1"
  }
 },
 "nbformat": 4,
 "nbformat_minor": 2
}
