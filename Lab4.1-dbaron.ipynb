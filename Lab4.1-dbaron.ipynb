{
 "cells": [
  {
   "cell_type": "markdown",
   "metadata": {},
   "source": [
    "# Lab 4.1 - PEP 8 Styling\n",
    "- **Author:** Deana Baron\n",
    "- **Date:** 3/31/19"
   ]
  },
  {
   "cell_type": "markdown",
   "metadata": {},
   "source": [
    "## What is PEP 8 and Why Does it Exist?\n",
    "\n",
    "PEP 8 (which stands for Python Enhancement Proposal) is a complete set of code writing guidelines that maximizes readability of Python code, which is important since code tends to be read more than written. \n",
    "\n",
    "PEP 8 covers styling choices like whitespace, code layout, and naming conventions. I'll attempt to summarize them in this lab.\n",
    "\n",
    "There is a `pep8` library that will go through your code and check for items that don't obey PEP 8. This is useful to maintain the readability of your code without having to remember all these guidelines by heart.\n",
    "\n",
    "There is a second PEP, PEP 20, that coincides with PEP 8 and helps guide decision making and readability in code writing.\n",
    "\n",
    "It's important to note that strictly adhering to the style guide is not always the best way of doing things, and to know when it's appropriate to not follow it. Readability is good, but consistency is best.\n",
    "***\n",
    "\n",
    "## Code layout\n",
    "\n",
    "### Indentation\n",
    "\n",
    "- 4 spaces should be used per indentation level\n",
    "- Continuing long lines can have parentheses or an extra indentation level\n",
    "    - These lines should be vertically aligned\n",
    "- Hanging indents can also be used - a line ends with a `(` and all succeeding statements must be indented until the closing `)`\n",
    "- `if` statements with long lines can also be indented, and comments can be used to distinuguish the conditions from the succeeding functions\n",
    "- Parentheses and brackets can end under the first character of the indent, or under the first character of the overall statement"
   ]
  },
  {
   "cell_type": "code",
   "execution_count": null,
   "metadata": {},
   "outputs": [],
   "source": [
    "# example of valid indentation\n",
    "def some_really_long_function(var1, var2,\n",
    "                              var3, var4)\n",
    "\n",
    "# example if statement\n",
    "if (conditionthing1\n",
    "    and conditionthing2):\n",
    "    # We can do a thing\n",
    "    do_a_thing()\n",
    "\n",
    "# example of long list\n",
    "my_really_complex_list = [\n",
    "    1, 2, 3,\n",
    "    4, 5, 6,\n",
    "    7, 8, 9,\n",
    "    10, 11, 12\n",
    "]"
   ]
  },
  {
   "cell_type": "markdown",
   "metadata": {},
   "source": [
    "### Tabs vs. Spaces\n",
    "\n",
    "- Always prefer spaces over tabs for indentation\n",
    "- Tabs can only be used to make sure that the indentations align\n",
    "- Python 3 will not allow code with a mixture of tabs and spaces\n",
    "***\n",
    "\n",
    "### Maximum line length\n",
    "\n",
    "- Lines should not be more than 79 characters\n",
    "- Comments and docstrings should not be more than 72 characters\n",
    "- Wrapping long lines is best by using parentheses, brackets, and braces for natural flow\n",
    "- Wrapped lines should still follow indentation rules\n",
    "***\n",
    "\n",
    "### Binary operators\n",
    "\n",
    "- Break lines before binary operators!!"
   ]
  },
  {
   "cell_type": "code",
   "execution_count": null,
   "metadata": {},
   "outputs": [],
   "source": [
    "# acceptable binary operator break\n",
    "\n",
    "some_long_variable = (attribute1\n",
    "                      + attribute2\n",
    "                      * attribute3)"
   ]
  },
  {
   "cell_type": "markdown",
   "metadata": {},
   "source": [
    "### Blank lines\n",
    "\n",
    "- Top level functions and classes are surrounded by two blank lines\n",
    "- Blank lines can be used to separate logical breaks within functions and classes\n",
    "- Use them sparingly!\n",
    "***\n",
    "\n",
    "### Source file encoding\n",
    "\n",
    "- Used for library distribution\n",
    "- ASCII identifiers and comments and should use English\n",
    "***\n",
    "\n",
    "### Imports\n",
    "\n",
    "- Import one library per line\n",
    "- You can import more than one module of a library on one line\n",
    "- Imports are at the top of a file, after docstrings/comments\n",
    "- Imports are grouped as:\n",
    "    - Standard library\n",
    "    - Related third party library\n",
    "    - Local application library\n",
    "- Don't use wildcard (\\*) imports"
   ]
  },
  {
   "cell_type": "code",
   "execution_count": null,
   "metadata": {},
   "outputs": [],
   "source": [
    "# good imports\n",
    "\n",
    "import os\n",
    "from os import sys, path"
   ]
  },
  {
   "cell_type": "markdown",
   "metadata": {},
   "source": [
    "### Module level dunder names\n",
    "\n",
    "- Double underscore names, e.g.: `__all__`, should be placed after module comments but before imports\n",
    "\n",
    "***\n",
    "\n",
    "## String Quotes\n",
    "\n",
    "- Single quotes and double quotes are treated the same way\n",
    "- Choose one and stick to it!!!!\n",
    "- If a string has one or the other, use the one that's not used to help readability"
   ]
  },
  {
   "cell_type": "code",
   "execution_count": null,
   "metadata": {},
   "outputs": [],
   "source": [
    "# both are correct\n",
    "\n",
    "str1 = \"Hello, world!\"\n",
    "str2 = 'Hello, world!'"
   ]
  },
  {
   "cell_type": "markdown",
   "metadata": {},
   "source": [
    "## Whitespace in Expressions\n",
    "\n",
    "### Pet peeves\n",
    "\n",
    "- Avoid unnecessary whitespace in the following:\n",
    "    - Immediately in parentheses, brackets, braces\n",
    "    - Between a trailing comma and a closing parentheses\n",
    "    - Immediately before a comma, semicolon, or colon\n",
    "        - Exception to this is a colon used in a slice, then it needs equal space on both sides\n",
    "    - Immediately before the parentheses for a function call\n",
    "    - Immediately before the brackets or parentheses used for slicing and indexing\n",
    "    - To align variable assignments"
   ]
  },
  {
   "cell_type": "code",
   "execution_count": null,
   "metadata": {},
   "outputs": [],
   "source": [
    "# good examples of whitespace\n",
    "\n",
    "something = (1 + 2)\n",
    "something2 = (0,)\n",
    "something3 = somethingelse[1 : 2]\n",
    "something4(something3)\n",
    "something5[1:3]"
   ]
  },
  {
   "cell_type": "markdown",
   "metadata": {},
   "source": [
    "### Other notes\n",
    "\n",
    "- No trailing whitespace at the end of lines\n",
    "- Have whitespace on either side of binary operators\n",
    "- Add whitespace around the operator that is of lower importance\n",
    "- Don't use whitespace around an `=` for a keyword assignment argument unless it's a default argument\n",
    "- Don't have multiple statements on the same line\n",
    "\n",
    "***\n",
    "\n",
    "## Trailing Commas\n",
    "\n",
    "- Trailing commas are usually optional\n",
    "- They are mandatory when making a tuple of only one element\n",
    "- Tuples that are expected to be modified should have each item and its comma on a separate line"
   ]
  },
  {
   "cell_type": "code",
   "execution_count": null,
   "metadata": {},
   "outputs": [],
   "source": [
    "# proper trailing commas\n",
    "\n",
    "tup1 = (0,)\n",
    "some_other_tuple = (\n",
    "    a_thing,\n",
    "    some_other_thing,\n",
    ")"
   ]
  },
  {
   "cell_type": "markdown",
   "metadata": {},
   "source": [
    "## Comments\n",
    "\n",
    "- Keep comments updated and accurate with the code\n",
    "- Complete sentences, starting with a capital letter unless an identifier starts with a lowercase letter\n",
    "- Block comments are paragraphs and each sentence should end with a period\n",
    "- Write comments in English!\n",
    "***\n",
    "\n",
    "### Block comments\n",
    "\n",
    "- Apply to some or all of the code that succeeds it\n",
    "- Each line starts with `#` and a space\n",
    "- Paragraphs are separated with a single `#` on a line\n",
    "***\n",
    "\n",
    "### Inline comments\n",
    "\n",
    "- Highly discouraged :-( \n",
    "- Can be very unnecessary and distracting, but occasionally useful\n",
    "***\n",
    "\n",
    "### Documentation strings\n",
    "\n",
    "- Also called docstrings\n",
    "- Use for all public modules, functions, classes and methods\n",
    "- Starts with `\"\"\"`\n",
    "- Ending `\"\"\"` should be on its own line"
   ]
  },
  {
   "cell_type": "code",
   "execution_count": null,
   "metadata": {},
   "outputs": [],
   "source": [
    "\"\"\"This is a docstring\n",
    "\n",
    "It does stuff\n",
    "\"\"\"\n",
    "\n",
    "# This is a complete a proper comment describing the below\n",
    "\n",
    "someVariable = someFunction()  # This is an inline commment, which you shouldn't use"
   ]
  },
  {
   "cell_type": "markdown",
   "metadata": {},
   "source": [
    "## Naming Conventions\n",
    "\n",
    "- A bit of a mess that will probably never be standardized\n",
    "- Names should reflect usage and not implementation\n",
    "\n",
    "### Naming styles\n",
    "\n",
    "- The below styles are all different from each other in Python\n",
    "    - b (single lowercase letter)\n",
    "    - B (single uppercase letter)\n",
    "    - lowercase\n",
    "    - lower_case_with_underscores\n",
    "    - UPPERCASE\n",
    "    - UPPER_CASE_WITH_UNDERSCORES\n",
    "    - CapitalizedWords <br/>\n",
    "        _ Note: When using acronyms in CapWords, capitalize all the letters of the acronym. Thus HTTPServerError is better than HttpServerError.\n",
    "    - mixedCase\n",
    "    - Capitalized_Words_With_Underscores\n",
    "- Can also start and end with underscores\n",
    "    - \"magic\" elements that are within a namespace get double underscores on both sides, eg: `__init__`\n",
    "***\n",
    "\n",
    "### Names to avoid\n",
    "\n",
    "- Do not use lowercase 'el' or uppercase 'oh' or uppercase 'eye' since they are easily confused\n",
    "***\n",
    "\n",
    "### Libraries and modules\n",
    "\n",
    "- Packages and modules should have short, all lowercase names\n",
    "- Can use underscores if it helps readability"
   ]
  },
  {
   "cell_type": "code",
   "execution_count": null,
   "metadata": {},
   "outputs": [],
   "source": [
    "import os\n",
    "import scikit_learn"
   ]
  },
  {
   "cell_type": "markdown",
   "metadata": {},
   "source": [
    "### Other type naming conventions\n",
    "\n",
    "- Classes should be in CapitalizedWords\n",
    "    - Exceptions are a type of class and should follow this as well\n",
    "- Type variables should also be in CapitalizedWords or Letters\n",
    "- Functions and variables should be lowercase, occasionally lowercase_with_underscores to improve readability\n",
    "    - mixedCase allowed if needed for backward compatibility\n",
    "- Constants are defined on a module level and in ALL_CAPS_WITH_UNDERSCORES\n",
    "***\n",
    "\n",
    "## Public and Internal Interfaces\n",
    "\n",
    "- Backward compatibility should only be applied for public interfaces\n",
    "    - Generally, if it is well documented, it's public, otherwise it's internal\n",
    "***\n",
    "\n",
    "## Programming recommendations\n",
    "\n",
    "- Write code that works in many different implementations of Python\n",
    "    - Don't use features that are specific to one implementation of Python\n",
    "- If comparing a value to `None`, use `is` or `is not` rather than equality operators\n",
    "- If you want to compare against `None`, do not write `not ... is`\n",
    "    - Instead use `is not`"
   ]
  },
  {
   "cell_type": "code",
   "execution_count": null,
   "metadata": {},
   "outputs": [],
   "source": [
    "# correct way to compare to None\n",
    "\n",
    "if x is None:\n",
    "    do_something()\n",
    "\n",
    "# incorrect ways to compare to None\n",
    "\n",
    "if x == None:\n",
    "    do_something()\n",
    "\n",
    "if not x is None:\n",
    "    do_something()"
   ]
  },
  {
   "cell_type": "markdown",
   "metadata": {},
   "source": [
    "- It's preferable to define a function rather than apply a lambda to a statement\n",
    "- Write exceptions that aim to solve the problem rather than just stating that there was a problem, and where\n",
    "- When catching exceptions, try to be specific as possible rather than just using a general base exception clause\n",
    "    - This ties into the statement above\n",
    "- When writing try clauses, always write the minimum amount of code that will work without making it too broad\n",
    "    - This will help with debugging the code\n",
    "- Use a with statement so the code is properly cleaned up if using a resource applies to one section of code"
   ]
  },
  {
   "cell_type": "code",
   "execution_count": null,
   "metadata": {},
   "outputs": [],
   "source": [
    "with open input.csv:\n",
    "    do_something()"
   ]
  },
  {
   "cell_type": "markdown",
   "metadata": {},
   "source": [
    "- Be consistent with functions and return statements\n",
    "    - Either all parts of a function return something, or none do\n",
    "- When checking for prefixes or suffixes in a string, use `.startswith()` and `.endswith()` instead of string splicing\n",
    "- Compare object types with `.isinstance()` rather than a direct comparison\n",
    "- Sequences (strings, lists, tuples) that are empty are considered False\n",
    "- Don't compare boolean values with True or False, its value is either True or False to begin with"
   ]
  }
 ],
 "metadata": {
  "kernelspec": {
   "display_name": "Python 3",
   "language": "python",
   "name": "python3"
  },
  "language_info": {
   "codemirror_mode": {
    "name": "ipython",
    "version": 3
   },
   "file_extension": ".py",
   "mimetype": "text/x-python",
   "name": "python",
   "nbconvert_exporter": "python",
   "pygments_lexer": "ipython3",
   "version": "3.7.1"
  }
 },
 "nbformat": 4,
 "nbformat_minor": 2
}
